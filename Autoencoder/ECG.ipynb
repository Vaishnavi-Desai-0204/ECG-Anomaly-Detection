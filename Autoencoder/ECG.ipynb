{
  "nbformat": 4,
  "nbformat_minor": 0,
  "metadata": {
    "colab": {
      "name": "Untitled0.ipynb",
      "provenance": []
    },
    "kernelspec": {
      "name": "python3",
      "display_name": "Python 3"
    },
    "language_info": {
      "name": "python"
    }
  },
  "cells": [
    {
      "cell_type": "code",
      "execution_count": 1,
      "metadata": {
        "id": "rEhd3jqiW-MM"
      },
      "outputs": [],
      "source": [
        "import matplotlib.pyplot as plt\n",
        "import numpy as np\n",
        "import pandas as pd\n",
        "import tensorflow as tf\n",
        "from sklearn.metrics import accuracy_score,precision_score,recall_score\n",
        "from sklearn.model_selection import train_test_split\n",
        "from tensorflow.keras import layers,losses\n",
        "from tensorflow.keras.datasets import fashion_mnist\n",
        "from tensorflow.keras.models import Model"
      ]
    },
    {
      "cell_type": "code",
      "source": [
        "dataframe=pd.read_csv('sample_data/ecg.csv',header=None)\n",
        "raw_data=dataframe.values\n",
        "dataframe.head()"
      ],
      "metadata": {
        "colab": {
          "base_uri": "https://localhost:8080/",
          "height": 299
        },
        "id": "g858SPwvZtfG",
        "outputId": "e17a7700-b628-4c72-eb3d-d6991f8801c9"
      },
      "execution_count": 3,
      "outputs": [
        {
          "output_type": "execute_result",
          "data": {
            "text/plain": [
              "        0         1         2         3         4         5         6    \\\n",
              "0 -0.112522 -2.827204 -3.773897 -4.349751 -4.376041 -3.474986 -2.181408   \n",
              "1 -1.100878 -3.996840 -4.285843 -4.506579 -4.022377 -3.234368 -1.566126   \n",
              "2 -0.567088 -2.593450 -3.874230 -4.584095 -4.187449 -3.151462 -1.742940   \n",
              "3  0.490473 -1.914407 -3.616364 -4.318823 -4.268016 -3.881110 -2.993280   \n",
              "4  0.800232 -0.874252 -2.384761 -3.973292 -4.338224 -3.802422 -2.534510   \n",
              "\n",
              "        7         8         9    ...       131       132       133       134  \\\n",
              "0 -1.818286 -1.250522 -0.477492  ...  0.792168  0.933541  0.796958  0.578621   \n",
              "1 -0.992258 -0.754680  0.042321  ...  0.538356  0.656881  0.787490  0.724046   \n",
              "2 -1.490659 -1.183580 -0.394229  ...  0.886073  0.531452  0.311377 -0.021919   \n",
              "3 -1.671131 -1.333884 -0.965629  ...  0.350816  0.499111  0.600345  0.842069   \n",
              "4 -1.783423 -1.594450 -0.753199  ...  1.148884  0.958434  1.059025  1.371682   \n",
              "\n",
              "        135       136       137       138       139  140  \n",
              "0  0.257740  0.228077  0.123431  0.925286  0.193137  1.0  \n",
              "1  0.555784  0.476333  0.773820  1.119621 -1.436250  1.0  \n",
              "2 -0.713683 -0.532197  0.321097  0.904227 -0.421797  1.0  \n",
              "3  0.952074  0.990133  1.086798  1.403011 -0.383564  1.0  \n",
              "4  1.277392  0.960304  0.971020  1.614392  1.421456  1.0  \n",
              "\n",
              "[5 rows x 141 columns]"
            ],
            "text/html": [
              "\n",
              "  <div id=\"df-fbce9f1f-2702-4204-aa91-5470a128feb9\">\n",
              "    <div class=\"colab-df-container\">\n",
              "      <div>\n",
              "<style scoped>\n",
              "    .dataframe tbody tr th:only-of-type {\n",
              "        vertical-align: middle;\n",
              "    }\n",
              "\n",
              "    .dataframe tbody tr th {\n",
              "        vertical-align: top;\n",
              "    }\n",
              "\n",
              "    .dataframe thead th {\n",
              "        text-align: right;\n",
              "    }\n",
              "</style>\n",
              "<table border=\"1\" class=\"dataframe\">\n",
              "  <thead>\n",
              "    <tr style=\"text-align: right;\">\n",
              "      <th></th>\n",
              "      <th>0</th>\n",
              "      <th>1</th>\n",
              "      <th>2</th>\n",
              "      <th>3</th>\n",
              "      <th>4</th>\n",
              "      <th>5</th>\n",
              "      <th>6</th>\n",
              "      <th>7</th>\n",
              "      <th>8</th>\n",
              "      <th>9</th>\n",
              "      <th>...</th>\n",
              "      <th>131</th>\n",
              "      <th>132</th>\n",
              "      <th>133</th>\n",
              "      <th>134</th>\n",
              "      <th>135</th>\n",
              "      <th>136</th>\n",
              "      <th>137</th>\n",
              "      <th>138</th>\n",
              "      <th>139</th>\n",
              "      <th>140</th>\n",
              "    </tr>\n",
              "  </thead>\n",
              "  <tbody>\n",
              "    <tr>\n",
              "      <th>0</th>\n",
              "      <td>-0.112522</td>\n",
              "      <td>-2.827204</td>\n",
              "      <td>-3.773897</td>\n",
              "      <td>-4.349751</td>\n",
              "      <td>-4.376041</td>\n",
              "      <td>-3.474986</td>\n",
              "      <td>-2.181408</td>\n",
              "      <td>-1.818286</td>\n",
              "      <td>-1.250522</td>\n",
              "      <td>-0.477492</td>\n",
              "      <td>...</td>\n",
              "      <td>0.792168</td>\n",
              "      <td>0.933541</td>\n",
              "      <td>0.796958</td>\n",
              "      <td>0.578621</td>\n",
              "      <td>0.257740</td>\n",
              "      <td>0.228077</td>\n",
              "      <td>0.123431</td>\n",
              "      <td>0.925286</td>\n",
              "      <td>0.193137</td>\n",
              "      <td>1.0</td>\n",
              "    </tr>\n",
              "    <tr>\n",
              "      <th>1</th>\n",
              "      <td>-1.100878</td>\n",
              "      <td>-3.996840</td>\n",
              "      <td>-4.285843</td>\n",
              "      <td>-4.506579</td>\n",
              "      <td>-4.022377</td>\n",
              "      <td>-3.234368</td>\n",
              "      <td>-1.566126</td>\n",
              "      <td>-0.992258</td>\n",
              "      <td>-0.754680</td>\n",
              "      <td>0.042321</td>\n",
              "      <td>...</td>\n",
              "      <td>0.538356</td>\n",
              "      <td>0.656881</td>\n",
              "      <td>0.787490</td>\n",
              "      <td>0.724046</td>\n",
              "      <td>0.555784</td>\n",
              "      <td>0.476333</td>\n",
              "      <td>0.773820</td>\n",
              "      <td>1.119621</td>\n",
              "      <td>-1.436250</td>\n",
              "      <td>1.0</td>\n",
              "    </tr>\n",
              "    <tr>\n",
              "      <th>2</th>\n",
              "      <td>-0.567088</td>\n",
              "      <td>-2.593450</td>\n",
              "      <td>-3.874230</td>\n",
              "      <td>-4.584095</td>\n",
              "      <td>-4.187449</td>\n",
              "      <td>-3.151462</td>\n",
              "      <td>-1.742940</td>\n",
              "      <td>-1.490659</td>\n",
              "      <td>-1.183580</td>\n",
              "      <td>-0.394229</td>\n",
              "      <td>...</td>\n",
              "      <td>0.886073</td>\n",
              "      <td>0.531452</td>\n",
              "      <td>0.311377</td>\n",
              "      <td>-0.021919</td>\n",
              "      <td>-0.713683</td>\n",
              "      <td>-0.532197</td>\n",
              "      <td>0.321097</td>\n",
              "      <td>0.904227</td>\n",
              "      <td>-0.421797</td>\n",
              "      <td>1.0</td>\n",
              "    </tr>\n",
              "    <tr>\n",
              "      <th>3</th>\n",
              "      <td>0.490473</td>\n",
              "      <td>-1.914407</td>\n",
              "      <td>-3.616364</td>\n",
              "      <td>-4.318823</td>\n",
              "      <td>-4.268016</td>\n",
              "      <td>-3.881110</td>\n",
              "      <td>-2.993280</td>\n",
              "      <td>-1.671131</td>\n",
              "      <td>-1.333884</td>\n",
              "      <td>-0.965629</td>\n",
              "      <td>...</td>\n",
              "      <td>0.350816</td>\n",
              "      <td>0.499111</td>\n",
              "      <td>0.600345</td>\n",
              "      <td>0.842069</td>\n",
              "      <td>0.952074</td>\n",
              "      <td>0.990133</td>\n",
              "      <td>1.086798</td>\n",
              "      <td>1.403011</td>\n",
              "      <td>-0.383564</td>\n",
              "      <td>1.0</td>\n",
              "    </tr>\n",
              "    <tr>\n",
              "      <th>4</th>\n",
              "      <td>0.800232</td>\n",
              "      <td>-0.874252</td>\n",
              "      <td>-2.384761</td>\n",
              "      <td>-3.973292</td>\n",
              "      <td>-4.338224</td>\n",
              "      <td>-3.802422</td>\n",
              "      <td>-2.534510</td>\n",
              "      <td>-1.783423</td>\n",
              "      <td>-1.594450</td>\n",
              "      <td>-0.753199</td>\n",
              "      <td>...</td>\n",
              "      <td>1.148884</td>\n",
              "      <td>0.958434</td>\n",
              "      <td>1.059025</td>\n",
              "      <td>1.371682</td>\n",
              "      <td>1.277392</td>\n",
              "      <td>0.960304</td>\n",
              "      <td>0.971020</td>\n",
              "      <td>1.614392</td>\n",
              "      <td>1.421456</td>\n",
              "      <td>1.0</td>\n",
              "    </tr>\n",
              "  </tbody>\n",
              "</table>\n",
              "<p>5 rows × 141 columns</p>\n",
              "</div>\n",
              "      <button class=\"colab-df-convert\" onclick=\"convertToInteractive('df-fbce9f1f-2702-4204-aa91-5470a128feb9')\"\n",
              "              title=\"Convert this dataframe to an interactive table.\"\n",
              "              style=\"display:none;\">\n",
              "        \n",
              "  <svg xmlns=\"http://www.w3.org/2000/svg\" height=\"24px\"viewBox=\"0 0 24 24\"\n",
              "       width=\"24px\">\n",
              "    <path d=\"M0 0h24v24H0V0z\" fill=\"none\"/>\n",
              "    <path d=\"M18.56 5.44l.94 2.06.94-2.06 2.06-.94-2.06-.94-.94-2.06-.94 2.06-2.06.94zm-11 1L8.5 8.5l.94-2.06 2.06-.94-2.06-.94L8.5 2.5l-.94 2.06-2.06.94zm10 10l.94 2.06.94-2.06 2.06-.94-2.06-.94-.94-2.06-.94 2.06-2.06.94z\"/><path d=\"M17.41 7.96l-1.37-1.37c-.4-.4-.92-.59-1.43-.59-.52 0-1.04.2-1.43.59L10.3 9.45l-7.72 7.72c-.78.78-.78 2.05 0 2.83L4 21.41c.39.39.9.59 1.41.59.51 0 1.02-.2 1.41-.59l7.78-7.78 2.81-2.81c.8-.78.8-2.07 0-2.86zM5.41 20L4 18.59l7.72-7.72 1.47 1.35L5.41 20z\"/>\n",
              "  </svg>\n",
              "      </button>\n",
              "      \n",
              "  <style>\n",
              "    .colab-df-container {\n",
              "      display:flex;\n",
              "      flex-wrap:wrap;\n",
              "      gap: 12px;\n",
              "    }\n",
              "\n",
              "    .colab-df-convert {\n",
              "      background-color: #E8F0FE;\n",
              "      border: none;\n",
              "      border-radius: 50%;\n",
              "      cursor: pointer;\n",
              "      display: none;\n",
              "      fill: #1967D2;\n",
              "      height: 32px;\n",
              "      padding: 0 0 0 0;\n",
              "      width: 32px;\n",
              "    }\n",
              "\n",
              "    .colab-df-convert:hover {\n",
              "      background-color: #E2EBFA;\n",
              "      box-shadow: 0px 1px 2px rgba(60, 64, 67, 0.3), 0px 1px 3px 1px rgba(60, 64, 67, 0.15);\n",
              "      fill: #174EA6;\n",
              "    }\n",
              "\n",
              "    [theme=dark] .colab-df-convert {\n",
              "      background-color: #3B4455;\n",
              "      fill: #D2E3FC;\n",
              "    }\n",
              "\n",
              "    [theme=dark] .colab-df-convert:hover {\n",
              "      background-color: #434B5C;\n",
              "      box-shadow: 0px 1px 3px 1px rgba(0, 0, 0, 0.15);\n",
              "      filter: drop-shadow(0px 1px 2px rgba(0, 0, 0, 0.3));\n",
              "      fill: #FFFFFF;\n",
              "    }\n",
              "  </style>\n",
              "\n",
              "      <script>\n",
              "        const buttonEl =\n",
              "          document.querySelector('#df-fbce9f1f-2702-4204-aa91-5470a128feb9 button.colab-df-convert');\n",
              "        buttonEl.style.display =\n",
              "          google.colab.kernel.accessAllowed ? 'block' : 'none';\n",
              "\n",
              "        async function convertToInteractive(key) {\n",
              "          const element = document.querySelector('#df-fbce9f1f-2702-4204-aa91-5470a128feb9');\n",
              "          const dataTable =\n",
              "            await google.colab.kernel.invokeFunction('convertToInteractive',\n",
              "                                                     [key], {});\n",
              "          if (!dataTable) return;\n",
              "\n",
              "          const docLinkHtml = 'Like what you see? Visit the ' +\n",
              "            '<a target=\"_blank\" href=https://colab.research.google.com/notebooks/data_table.ipynb>data table notebook</a>'\n",
              "            + ' to learn more about interactive tables.';\n",
              "          element.innerHTML = '';\n",
              "          dataTable['output_type'] = 'display_data';\n",
              "          await google.colab.output.renderOutput(dataTable, element);\n",
              "          const docLink = document.createElement('div');\n",
              "          docLink.innerHTML = docLinkHtml;\n",
              "          element.appendChild(docLink);\n",
              "        }\n",
              "      </script>\n",
              "    </div>\n",
              "  </div>\n",
              "  "
            ]
          },
          "metadata": {},
          "execution_count": 3
        }
      ]
    },
    {
      "cell_type": "code",
      "source": [
        "labels=raw_data[:,-1]\n",
        "\n",
        "data=raw_data[:,0:-1]\n",
        "train_data,test_data,train_labels,test_labels=train_test_split(data,labels,test_size=0.2,random_state=21)\n"
      ],
      "metadata": {
        "id": "isc3H_XFZz42"
      },
      "execution_count": 26,
      "outputs": []
    },
    {
      "cell_type": "code",
      "source": [
        "\n",
        "min_val=tf.reduce_min(train_data)\n",
        "max_val=tf.reduce_max(train_data)\n",
        "train_data=(train_data-min_val)/(max_val-min_val)\n",
        "test_data=(test_data-min_val)/(max_val-min_val)\n",
        "train_data=tf.cast(train_data,tf.float32)\n",
        "test_data=tf.cast(test_data,tf.float32)\n",
        "test_data.dtype"
      ],
      "metadata": {
        "colab": {
          "base_uri": "https://localhost:8080/"
        },
        "id": "vQBbyr_GZ-C7",
        "outputId": "6baee4d9-08c9-4426-87f6-84210a1e7117"
      },
      "execution_count": 27,
      "outputs": [
        {
          "output_type": "execute_result",
          "data": {
            "text/plain": [
              "tf.float32"
            ]
          },
          "metadata": {},
          "execution_count": 27
        }
      ]
    },
    {
      "cell_type": "code",
      "source": [
        "train_labels=train_labels.astype(bool)\n",
        "test_labels=test_labels.astype(bool)\n",
        "\n",
        "normal_train_data = train_data[train_labels==True]\n",
        "normal_test_data = test_data[test_labels==True]\n",
        "\n",
        "anomalous_train_data = train_data[train_labels==False]\n",
        "anomalous_test_data = test_data[test_labels==False]\n",
        "normal_test_data"
      ],
      "metadata": {
        "colab": {
          "base_uri": "https://localhost:8080/"
        },
        "id": "Mx1wNqyFaAev",
        "outputId": "441e8fe2-89ca-49de-f701-5a94e4ec0ebe"
      },
      "execution_count": 9,
      "outputs": [
        {
          "output_type": "execute_result",
          "data": {
            "text/plain": [
              "<tf.Tensor: shape=(560, 140), dtype=float32, numpy=\n",
              "array([[0.48035768, 0.28877792, 0.19828546, ..., 0.45463306, 0.5246125 ,\n",
              "        0.3713729 ],\n",
              "       [0.45354807, 0.2557325 , 0.15979648, ..., 0.4801337 , 0.5284734 ,\n",
              "        0.49527124],\n",
              "       [0.4521779 , 0.25685105, 0.12592098, ..., 0.55448556, 0.5861353 ,\n",
              "        0.4754273 ],\n",
              "       ...,\n",
              "       [0.48304972, 0.36122933, 0.27729514, ..., 0.32799056, 0.3158066 ,\n",
              "        0.26930442],\n",
              "       [0.4090865 , 0.27907097, 0.22604261, ..., 0.39099607, 0.45987615,\n",
              "        0.42140076],\n",
              "       [0.42648116, 0.17669384, 0.14546008, ..., 0.4733389 , 0.55036914,\n",
              "        0.37805188]], dtype=float32)>"
            ]
          },
          "metadata": {},
          "execution_count": 9
        }
      ]
    },
    {
      "cell_type": "code",
      "source": [
        "plt.grid(linestyle=\":\",color=\"b\")\n",
        "plt.plot(np.arange(140),normal_train_data[0])\n",
        "plt.title(\"A Normal ECG\")\n",
        "plt.show()"
      ],
      "metadata": {
        "colab": {
          "base_uri": "https://localhost:8080/",
          "height": 281
        },
        "id": "f1BJ0JDPaHr0",
        "outputId": "583960e6-538e-4f75-d47d-ea2d2a093b84"
      },
      "execution_count": 28,
      "outputs": [
        {
          "output_type": "display_data",
          "data": {
            "text/plain": [
              "<Figure size 432x288 with 1 Axes>"
            ],
            "image/png": "[encoded data removed]"
          },
          "metadata": {
            "needs_background": "light"
          }
        }
      ]
    },
    {
      "cell_type": "code",
      "source": [
        "plt.grid(linestyle=\":\",color=\"b\")\n",
        "plt.plot(np.arange(140),anomalous_train_data[0])\n",
        "plt.title(\"An Anomalous ECG\")\n",
        "plt.show()"
      ],
      "metadata": {
        "colab": {
          "base_uri": "https://localhost:8080/",
          "height": 281
        },
        "id": "anQeX_xXaKgB",
        "outputId": "fe16bc14-5c75-4465-971d-f8f4dd3a8a2a"
      },
      "execution_count": 11,
      "outputs": [
        {
          "output_type": "display_data",
          "data": {
            "text/plain": [
              "<Figure size 432x288 with 1 Axes>"
            ],
            "image/png": "[encoded data removed]"
          },
          "metadata": {
            "needs_background": "light"
          }
        }
      ]
    },
    {
      "cell_type": "code",
      "source": [
        "\n",
        "class AnomalyDetector(Model):\n",
        "    def __init__(self):\n",
        "        #建立神经网络\n",
        "        super(AnomalyDetector,self).__init__()\n",
        "        self.encoder=tf.keras.Sequential([layers.Dense(32,activation=\"relu\"),layers.Dense(16,activation=\"relu\"),layers.Dense(8,activation=\"relu\")])\n",
        "         #建立神经网络\n",
        "        self.decoder=tf.keras.Sequential([\n",
        "          layers.Dense(16, activation=\"relu\"),\n",
        "          layers.Dense(32, activation=\"relu\"),\n",
        "          layers.Dense(140, activation=\"sigmoid\")])\n",
        "    def call(self,x):\n",
        "        encoded=self.encoder(x)\n",
        "        decoded=self.decoder(x)\n",
        "        return decoded\n",
        "autoencoder=AnomalyDetector()\n",
        "\n",
        "autoencoder.compile(optimizer='adam',loss='mae')"
      ],
      "metadata": {
        "id": "aesPdWjXaNEY"
      },
      "execution_count": 29,
      "outputs": []
    },
    {
      "cell_type": "code",
      "source": [
        "history=autoencoder.fit(normal_train_data,normal_train_data,epochs=20,batch_size=512,\n",
        "                       validation_data=(test_data,test_data),shuffle=True)"
      ],
      "metadata": {
        "colab": {
          "base_uri": "https://localhost:8080/"
        },
        "id": "wCchQl3JaTfx",
        "outputId": "d6a1fe1d-3eda-43ac-f22c-41b32f6a9b26"
      },
      "execution_count": 13,
      "outputs": [
        {
          "output_type": "stream",
          "name": "stdout",
          "text": [
            "Epoch 1/20\n"
          ]
        },
        {
          "output_type": "stream",
          "name": "stderr",
          "text": [
            "WARNING:tensorflow:Gradients do not exist for variables ['dense/kernel:0', 'dense/bias:0', 'dense_1/kernel:0', 'dense_1/bias:0', 'dense_2/kernel:0', 'dense_2/bias:0'] when minimizing the loss. If you're using `model.compile()`, did you forget to provide a `loss`argument?\n",
            "WARNING:tensorflow:Gradients do not exist for variables ['dense/kernel:0', 'dense/bias:0', 'dense_1/kernel:0', 'dense_1/bias:0', 'dense_2/kernel:0', 'dense_2/bias:0'] when minimizing the loss. If you're using `model.compile()`, did you forget to provide a `loss`argument?\n"
          ]
        },
        {
          "output_type": "stream",
          "name": "stdout",
          "text": [
            "5/5 [==============================] - 2s 87ms/step - loss: 0.0613 - val_loss: 0.0541\n",
            "Epoch 2/20\n",
            "5/5 [==============================] - 0s 15ms/step - loss: 0.0560 - val_loss: 0.0518\n",
            "Epoch 3/20\n",
            "5/5 [==============================] - 0s 20ms/step - loss: 0.0536 - val_loss: 0.0504\n",
            "Epoch 4/20\n",
            "5/5 [==============================] - 0s 15ms/step - loss: 0.0508 - val_loss: 0.0493\n",
            "Epoch 5/20\n",
            "5/5 [==============================] - 0s 27ms/step - loss: 0.0476 - val_loss: 0.0477\n",
            "Epoch 6/20\n",
            "5/5 [==============================] - 0s 22ms/step - loss: 0.0440 - val_loss: 0.0454\n",
            "Epoch 7/20\n",
            "5/5 [==============================] - 0s 24ms/step - loss: 0.0406 - val_loss: 0.0434\n",
            "Epoch 8/20\n",
            "5/5 [==============================] - 0s 19ms/step - loss: 0.0374 - val_loss: 0.0415\n",
            "Epoch 9/20\n",
            "5/5 [==============================] - 0s 20ms/step - loss: 0.0343 - val_loss: 0.0399\n",
            "Epoch 10/20\n",
            "5/5 [==============================] - 0s 23ms/step - loss: 0.0315 - val_loss: 0.0389\n",
            "Epoch 11/20\n",
            "5/5 [==============================] - 0s 21ms/step - loss: 0.0292 - val_loss: 0.0378\n",
            "Epoch 12/20\n",
            "5/5 [==============================] - 0s 21ms/step - loss: 0.0274 - val_loss: 0.0371\n",
            "Epoch 13/20\n",
            "5/5 [==============================] - 0s 21ms/step - loss: 0.0261 - val_loss: 0.0365\n",
            "Epoch 14/20\n",
            "5/5 [==============================] - 0s 16ms/step - loss: 0.0250 - val_loss: 0.0357\n",
            "Epoch 15/20\n",
            "5/5 [==============================] - 0s 23ms/step - loss: 0.0241 - val_loss: 0.0351\n",
            "Epoch 16/20\n",
            "5/5 [==============================] - 0s 25ms/step - loss: 0.0234 - val_loss: 0.0346\n",
            "Epoch 17/20\n",
            "5/5 [==============================] - 0s 26ms/step - loss: 0.0228 - val_loss: 0.0342\n",
            "Epoch 18/20\n",
            "5/5 [==============================] - 0s 20ms/step - loss: 0.0223 - val_loss: 0.0340\n",
            "Epoch 19/20\n",
            "5/5 [==============================] - 0s 21ms/step - loss: 0.0219 - val_loss: 0.0339\n",
            "Epoch 20/20\n",
            "5/5 [==============================] - 0s 21ms/step - loss: 0.0215 - val_loss: 0.0337\n"
          ]
        }
      ]
    },
    {
      "cell_type": "code",
      "source": [
        "plt.plot(history.history[\"loss\"],label=\"Training Loss\")\n",
        "plt.plot(history.history[\"val_loss\"],label=\"Validation Loss\")\n",
        "plt.legend()"
      ],
      "metadata": {
        "colab": {
          "base_uri": "https://localhost:8080/",
          "height": 282
        },
        "id": "kMGhSDCsaXUY",
        "outputId": "560a9803-f3cd-488f-e2e6-562dad629d9d"
      },
      "execution_count": 14,
      "outputs": [
        {
          "output_type": "execute_result",
          "data": {
            "text/plain": [
              "<matplotlib.legend.Legend at 0x7f2289b92850>"
            ]
          },
          "metadata": {},
          "execution_count": 14
        },
        {
          "output_type": "display_data",
          "data": {
            "text/plain": [
              "<Figure size 432x288 with 1 Axes>"
            ],
            "image/png": "[encoded data removed]"
          },
          "metadata": {
            "needs_background": "light"
          }
        }
      ]
    },
    {
      "cell_type": "code",
      "source": [
        "encoded_imgs=autoencoder.encoder(normal_test_data).numpy()\n",
        "decoded_imgs=autoencoder.decoder(normal_test_data).numpy()\n",
        "plt.plot(normal_test_data[0],'b')\n",
        "plt.plot(decoded_imgs[0],'r')\n",
        "plt.fill_between(np.arange(140),decoded_imgs[0],normal_test_data[0],color='lightcoral')\n",
        "plt.legend(labels=[\"Input\",\"Reconstruction\",\"Error\"])\n",
        "plt.show()\n",
        "encoded_imgs"
      ],
      "metadata": {
        "colab": {
          "base_uri": "https://localhost:8080/",
          "height": 491
        },
        "id": "2Bip7lrdaaW8",
        "outputId": "e184e2bb-23ab-4cfb-97f6-f192905736ee"
      },
      "execution_count": 15,
      "outputs": [
        {
          "output_type": "display_data",
          "data": {
            "text/plain": [
              "<Figure size 432x288 with 1 Axes>"
            ],
            "image/png": "[encoded data removed]"
          },
          "metadata": {
            "needs_background": "light"
          }
        },
        {
          "output_type": "execute_result",
          "data": {
            "text/plain": [
              "array([[0.06229988, 0.        , 0.45392632, ..., 0.21740931, 0.        ,\n",
              "        0.        ],\n",
              "       [0.05237287, 0.        , 0.4081455 , ..., 0.23332137, 0.        ,\n",
              "        0.        ],\n",
              "       [0.03012392, 0.        , 0.39885613, ..., 0.22431044, 0.        ,\n",
              "        0.        ],\n",
              "       ...,\n",
              "       [0.02104648, 0.        , 0.36615908, ..., 0.22136039, 0.        ,\n",
              "        0.        ],\n",
              "       [0.04838591, 0.        , 0.4102447 , ..., 0.2305256 , 0.        ,\n",
              "        0.        ],\n",
              "       [0.04798792, 0.        , 0.42302507, ..., 0.23333636, 0.        ,\n",
              "        0.        ]], dtype=float32)"
            ]
          },
          "metadata": {},
          "execution_count": 15
        }
      ]
    },
    {
      "cell_type": "code",
      "source": [
        "encoded_imgs=autoencoder.encoder(anomalous_test_data).numpy()\n",
        "decoded_imgs=autoencoder.decoder(anomalous_test_data).numpy()"
      ],
      "metadata": {
        "id": "2ft2XKlRafEp"
      },
      "execution_count": 16,
      "outputs": []
    },
    {
      "cell_type": "code",
      "source": [
        "plt.plot(anomalous_test_data[0],'b')\n",
        "plt.plot(decoded_imgs[0],'r')\n",
        "plt.fill_between(np.arange(140),decoded_imgs[0],anomalous_test_data[0],color='lightcoral')\n",
        "plt.legend(labels=[\"Input\",\"Reconstruction\",\"Error\"])\n",
        "plt.show()"
      ],
      "metadata": {
        "colab": {
          "base_uri": "https://localhost:8080/",
          "height": 265
        },
        "id": "I6zlqknXagal",
        "outputId": "b9d907a4-84d7-4062-d463-1278d48a23c3"
      },
      "execution_count": 17,
      "outputs": [
        {
          "output_type": "display_data",
          "data": {
            "text/plain": [
              "<Figure size 432x288 with 1 Axes>"
            ],
            "image/png": "[encoded data removed]"
          },
          "metadata": {
            "needs_background": "light"
          }
        }
      ]
    },
    {
      "cell_type": "code",
      "source": [
        "reconstructions=autoencoder.predict(normal_train_data)\n",
        "reconstructions"
      ],
      "metadata": {
        "colab": {
          "base_uri": "https://localhost:8080/"
        },
        "id": "uUvPq3gQajVo",
        "outputId": "8f238757-6210-4de3-b385-d66f189dbbf3"
      },
      "execution_count": 30,
      "outputs": [
        {
          "output_type": "stream",
          "name": "stdout",
          "text": [
            "74/74 [==============================] - 1s 3ms/step\n"
          ]
        },
        {
          "output_type": "execute_result",
          "data": {
            "text/plain": [
              "array([[0.4995535 , 0.47116777, 0.43095613, ..., 0.5390595 , 0.5081731 ,\n",
              "        0.51611894],\n",
              "       [0.50111705, 0.47326005, 0.42822427, ..., 0.53900117, 0.5078298 ,\n",
              "        0.5176502 ],\n",
              "       [0.50009865, 0.47175628, 0.43004867, ..., 0.5393053 , 0.51131576,\n",
              "        0.51902497],\n",
              "       ...,\n",
              "       [0.5010918 , 0.470978  , 0.42642206, ..., 0.541007  , 0.5105458 ,\n",
              "        0.51941645],\n",
              "       [0.49911064, 0.4718381 , 0.43181738, ..., 0.53855944, 0.5105507 ,\n",
              "        0.5178314 ],\n",
              "       [0.5021123 , 0.47280958, 0.4272507 , ..., 0.5396363 , 0.5100274 ,\n",
              "        0.5194551 ]], dtype=float32)"
            ]
          },
          "metadata": {},
          "execution_count": 30
        }
      ]
    },
    {
      "cell_type": "code",
      "source": [
        "train_loss=tf.keras.losses.mae(reconstructions,normal_train_data).numpy()\n",
        "train_loss"
      ],
      "metadata": {
        "colab": {
          "base_uri": "https://localhost:8080/"
        },
        "id": "b9G_SJLqao2s",
        "outputId": "82e636fb-7914-4f78-dd90-38bec4ebd769"
      },
      "execution_count": 19,
      "outputs": [
        {
          "output_type": "execute_result",
          "data": {
            "text/plain": [
              "array([0.0276557 , 0.01196396, 0.02078875, ..., 0.01376753, 0.02354907,\n",
              "       0.01760375], dtype=float32)"
            ]
          },
          "metadata": {},
          "execution_count": 19
        }
      ]
    },
    {
      "cell_type": "code",
      "source": [
        "plt.hist(train_loss,bins=50,density=True)\n",
        "plt.xlabel(\"Train Loss\")\n",
        "plt.ylabel(\"No of Examples\")\n",
        "plt.show()"
      ],
      "metadata": {
        "colab": {
          "base_uri": "https://localhost:8080/",
          "height": 279
        },
        "id": "pI-giJuzaq_e",
        "outputId": "9e191213-1de9-41a7-bbcf-48b3cd5b972b"
      },
      "execution_count": 31,
      "outputs": [
        {
          "output_type": "display_data",
          "data": {
            "text/plain": [
              "<Figure size 432x288 with 1 Axes>"
            ],
            "image/png": "[encoded data removed]"
          },
          "metadata": {
            "needs_background": "light"
          }
        }
      ]
    },
    {
      "cell_type": "code",
      "source": [
        "threshold=np.mean(train_loss)+np.std(train_loss)\n",
        "print(\"Threshold\",threshold)"
      ],
      "metadata": {
        "colab": {
          "base_uri": "https://localhost:8080/"
        },
        "id": "Kp7urgVtasjC",
        "outputId": "aa3401e5-e1ed-4589-efef-6d1d9642370b"
      },
      "execution_count": 21,
      "outputs": [
        {
          "output_type": "stream",
          "name": "stdout",
          "text": [
            "Threshold 0.03358294\n"
          ]
        }
      ]
    },
    {
      "cell_type": "code",
      "source": [
        "reconstructions=autoencoder.predict(anomalous_test_data)\n",
        "reconstructions"
      ],
      "metadata": {
        "colab": {
          "base_uri": "https://localhost:8080/"
        },
        "id": "osc4puEMawQh",
        "outputId": "1edd00fd-7546-4401-cd81-8c6092b5aa8e"
      },
      "execution_count": 22,
      "outputs": [
        {
          "output_type": "stream",
          "name": "stdout",
          "text": [
            "14/14 [==============================] - 0s 3ms/step\n"
          ]
        },
        {
          "output_type": "execute_result",
          "data": {
            "text/plain": [
              "array([[0.42555377, 0.2924274 , 0.23933381, ..., 0.51639795, 0.5064883 ,\n",
              "        0.42285407],\n",
              "       [0.42182857, 0.29519883, 0.24515933, ..., 0.5050796 , 0.5031042 ,\n",
              "        0.42269373],\n",
              "       [0.42047364, 0.29306433, 0.24184509, ..., 0.5052289 , 0.50087863,\n",
              "        0.42304966],\n",
              "       ...,\n",
              "       [0.4198254 , 0.29351386, 0.2425771 , ..., 0.504064  , 0.5001553 ,\n",
              "        0.42339575],\n",
              "       [0.41910103, 0.29739204, 0.2455108 , ..., 0.5023314 , 0.49490824,\n",
              "        0.42690212],\n",
              "       [0.43197045, 0.2999637 , 0.24914092, ..., 0.51086324, 0.5099548 ,\n",
              "        0.41992757]], dtype=float32)"
            ]
          },
          "metadata": {},
          "execution_count": 22
        }
      ]
    },
    {
      "cell_type": "code",
      "source": [
        "test_loss=tf.keras.losses.mae(reconstructions,anomalous_test_data).numpy()\n",
        "plt.hist(test_loss,bins=50,density=True)\n",
        "plt.xlabel(\"Test Loss\")\n",
        "plt.ylabel(\"No of Examples\")\n",
        "plt.show()"
      ],
      "metadata": {
        "colab": {
          "base_uri": "https://localhost:8080/",
          "height": 279
        },
        "id": "W0WCno61axkB",
        "outputId": "ebc8c7ed-a4ea-459a-aaf7-cf66029d02db"
      },
      "execution_count": 23,
      "outputs": [
        {
          "output_type": "display_data",
          "data": {
            "text/plain": [
              "<Figure size 432x288 with 1 Axes>"
            ],
            "image/png": "[encoded data removed]"
          },
          "metadata": {
            "needs_background": "light"
          }
        }
      ]
    },
    {
      "cell_type": "code",
      "source": [
        "def predict(model,data,threshold):\n",
        "    reconstructions=model(data)\n",
        "    loss=tf.keras.losses.mae(reconstructions,data)\n",
        "    return tf.math.less(loss,threshold)\n",
        "def print_stats(prediction,labels):\n",
        "    print(\"Accuracy={}\".format(accuracy_score(labels,preds)))\n",
        "    print(\"Precision={}\".format(precision_score(labels,preds)))\n",
        "    print(\"Recall={}\".format(recall_score(labels,preds)))"
      ],
      "metadata": {
        "id": "cpFMvbr7a1Ha"
      },
      "execution_count": 32,
      "outputs": []
    },
    {
      "cell_type": "code",
      "source": [
        "preds=predict(autoencoder,test_data,threshold)\n",
        "print_stats(preds,test_labels)"
      ],
      "metadata": {
        "colab": {
          "base_uri": "https://localhost:8080/"
        },
        "id": "Y_7p5XJma3AN",
        "outputId": "512190af-aeb1-4fd4-f487-f154f2148fb1"
      },
      "execution_count": 25,
      "outputs": [
        {
          "output_type": "stream",
          "name": "stdout",
          "text": [
            "Accuracy=0.946\n",
            "Precision=0.9922178988326849\n",
            "Recall=0.9107142857142857\n"
          ]
        }
      ]
    }
  ]
}
